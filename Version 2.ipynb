{
 "cells": [
  {
   "cell_type": "markdown",
   "metadata": {},
   "source": [
    "# Loading the data"
   ]
  },
  {
   "cell_type": "code",
   "execution_count": 9,
   "metadata": {},
   "outputs": [],
   "source": [
    "import pandas as pd\n",
    "import matplotlib as plt\n",
    "import numpy as np\n",
    "import glob\n",
    "import os\n",
    "import csv\n",
    "\n",
    "data_dir = \"data/Tennis/JeffSackmann_data/\"\n",
    "database_dir = data_dir + \"db/\""
   ]
  },
  {
   "cell_type": "code",
   "execution_count": 2,
   "metadata": {
    "code_folding": []
   },
   "outputs": [],
   "source": [
    "def load_data(directory):\n",
    "    df = pd.DataFrame()\n",
    "    d = []\n",
    "            \n",
    "    for file in glob.glob(directory + \"*.csv\"):\n",
    "        tdf = pd.read_csv(file, index_col=None, header=0)\n",
    "        d.append(tdf)\n",
    "    \n",
    "    return pd.concat(d)"
   ]
  },
  {
   "cell_type": "code",
   "execution_count": 5,
   "metadata": {
    "scrolled": true
   },
   "outputs": [],
   "source": [
    "data = load_data(data_dir + \"matches/\")\n",
    "pd.set_option(\"display.max_columns\", None)"
   ]
  },
  {
   "cell_type": "markdown",
   "metadata": {},
   "source": [
    "# Viewing the data"
   ]
  },
  {
   "cell_type": "code",
   "execution_count": 6,
   "metadata": {},
   "outputs": [
    {
     "data": {
      "text/html": [
       "<div>\n",
       "<style scoped>\n",
       "    .dataframe tbody tr th:only-of-type {\n",
       "        vertical-align: middle;\n",
       "    }\n",
       "\n",
       "    .dataframe tbody tr th {\n",
       "        vertical-align: top;\n",
       "    }\n",
       "\n",
       "    .dataframe thead th {\n",
       "        text-align: right;\n",
       "    }\n",
       "</style>\n",
       "<table border=\"1\" class=\"dataframe\">\n",
       "  <thead>\n",
       "    <tr style=\"text-align: right;\">\n",
       "      <th></th>\n",
       "      <th>tourney_id</th>\n",
       "      <th>tourney_name</th>\n",
       "      <th>surface</th>\n",
       "      <th>draw_size</th>\n",
       "      <th>tourney_level</th>\n",
       "      <th>tourney_date</th>\n",
       "      <th>match_num</th>\n",
       "      <th>winner_id</th>\n",
       "      <th>winner_seed</th>\n",
       "      <th>winner_entry</th>\n",
       "      <th>winner_name</th>\n",
       "      <th>winner_hand</th>\n",
       "      <th>winner_ht</th>\n",
       "      <th>winner_ioc</th>\n",
       "      <th>winner_age</th>\n",
       "      <th>winner_rank</th>\n",
       "      <th>winner_rank_points</th>\n",
       "      <th>loser_id</th>\n",
       "      <th>loser_seed</th>\n",
       "      <th>loser_entry</th>\n",
       "      <th>loser_name</th>\n",
       "      <th>loser_hand</th>\n",
       "      <th>loser_ht</th>\n",
       "      <th>loser_ioc</th>\n",
       "      <th>loser_age</th>\n",
       "      <th>loser_rank</th>\n",
       "      <th>loser_rank_points</th>\n",
       "      <th>score</th>\n",
       "      <th>best_of</th>\n",
       "      <th>round</th>\n",
       "      <th>minutes</th>\n",
       "      <th>w_ace</th>\n",
       "      <th>w_df</th>\n",
       "      <th>w_svpt</th>\n",
       "      <th>w_1stIn</th>\n",
       "      <th>w_1stWon</th>\n",
       "      <th>w_2ndWon</th>\n",
       "      <th>w_SvGms</th>\n",
       "      <th>w_bpSaved</th>\n",
       "      <th>w_bpFaced</th>\n",
       "      <th>l_ace</th>\n",
       "      <th>l_df</th>\n",
       "      <th>l_svpt</th>\n",
       "      <th>l_1stIn</th>\n",
       "      <th>l_1stWon</th>\n",
       "      <th>l_2ndWon</th>\n",
       "      <th>l_SvGms</th>\n",
       "      <th>l_bpSaved</th>\n",
       "      <th>l_bpFaced</th>\n",
       "    </tr>\n",
       "  </thead>\n",
       "  <tbody>\n",
       "    <tr>\n",
       "      <th>0</th>\n",
       "      <td>2016-M020</td>\n",
       "      <td>Brisbane</td>\n",
       "      <td>Hard</td>\n",
       "      <td>32</td>\n",
       "      <td>A</td>\n",
       "      <td>20160104</td>\n",
       "      <td>300</td>\n",
       "      <td>105683</td>\n",
       "      <td>4.0</td>\n",
       "      <td>NaN</td>\n",
       "      <td>Milos Raonic</td>\n",
       "      <td>R</td>\n",
       "      <td>196.0</td>\n",
       "      <td>CAN</td>\n",
       "      <td>25.021218</td>\n",
       "      <td>14.0</td>\n",
       "      <td>2170.0</td>\n",
       "      <td>103819</td>\n",
       "      <td>1.0</td>\n",
       "      <td>NaN</td>\n",
       "      <td>Roger Federer</td>\n",
       "      <td>R</td>\n",
       "      <td>185.0</td>\n",
       "      <td>SUI</td>\n",
       "      <td>34.406571</td>\n",
       "      <td>3.0</td>\n",
       "      <td>8265.0</td>\n",
       "      <td>6-4 6-4</td>\n",
       "      <td>3</td>\n",
       "      <td>F</td>\n",
       "      <td>87.0</td>\n",
       "      <td>6.0</td>\n",
       "      <td>6.0</td>\n",
       "      <td>60.0</td>\n",
       "      <td>34.0</td>\n",
       "      <td>28.0</td>\n",
       "      <td>14.0</td>\n",
       "      <td>10.0</td>\n",
       "      <td>1.0</td>\n",
       "      <td>1.0</td>\n",
       "      <td>7.0</td>\n",
       "      <td>3.0</td>\n",
       "      <td>61.0</td>\n",
       "      <td>34.0</td>\n",
       "      <td>25.0</td>\n",
       "      <td>14.0</td>\n",
       "      <td>10.0</td>\n",
       "      <td>3.0</td>\n",
       "      <td>5.0</td>\n",
       "    </tr>\n",
       "    <tr>\n",
       "      <th>1</th>\n",
       "      <td>2016-M020</td>\n",
       "      <td>Brisbane</td>\n",
       "      <td>Hard</td>\n",
       "      <td>32</td>\n",
       "      <td>A</td>\n",
       "      <td>20160104</td>\n",
       "      <td>299</td>\n",
       "      <td>103819</td>\n",
       "      <td>1.0</td>\n",
       "      <td>NaN</td>\n",
       "      <td>Roger Federer</td>\n",
       "      <td>R</td>\n",
       "      <td>185.0</td>\n",
       "      <td>SUI</td>\n",
       "      <td>34.406571</td>\n",
       "      <td>3.0</td>\n",
       "      <td>8265.0</td>\n",
       "      <td>106233</td>\n",
       "      <td>8.0</td>\n",
       "      <td>NaN</td>\n",
       "      <td>Dominic Thiem</td>\n",
       "      <td>R</td>\n",
       "      <td>NaN</td>\n",
       "      <td>AUT</td>\n",
       "      <td>22.335387</td>\n",
       "      <td>20.0</td>\n",
       "      <td>1600.0</td>\n",
       "      <td>6-1 6-4</td>\n",
       "      <td>3</td>\n",
       "      <td>SF</td>\n",
       "      <td>60.0</td>\n",
       "      <td>6.0</td>\n",
       "      <td>0.0</td>\n",
       "      <td>49.0</td>\n",
       "      <td>27.0</td>\n",
       "      <td>23.0</td>\n",
       "      <td>12.0</td>\n",
       "      <td>9.0</td>\n",
       "      <td>0.0</td>\n",
       "      <td>1.0</td>\n",
       "      <td>2.0</td>\n",
       "      <td>4.0</td>\n",
       "      <td>55.0</td>\n",
       "      <td>31.0</td>\n",
       "      <td>18.0</td>\n",
       "      <td>9.0</td>\n",
       "      <td>8.0</td>\n",
       "      <td>2.0</td>\n",
       "      <td>6.0</td>\n",
       "    </tr>\n",
       "  </tbody>\n",
       "</table>\n",
       "</div>"
      ],
      "text/plain": [
       "  tourney_id tourney_name surface  draw_size tourney_level  tourney_date  \\\n",
       "0  2016-M020     Brisbane    Hard         32             A      20160104   \n",
       "1  2016-M020     Brisbane    Hard         32             A      20160104   \n",
       "\n",
       "   match_num  winner_id  winner_seed winner_entry    winner_name winner_hand  \\\n",
       "0        300     105683          4.0          NaN   Milos Raonic           R   \n",
       "1        299     103819          1.0          NaN  Roger Federer           R   \n",
       "\n",
       "   winner_ht winner_ioc  winner_age  winner_rank  winner_rank_points  \\\n",
       "0      196.0        CAN   25.021218         14.0              2170.0   \n",
       "1      185.0        SUI   34.406571          3.0              8265.0   \n",
       "\n",
       "   loser_id  loser_seed loser_entry     loser_name loser_hand  loser_ht  \\\n",
       "0    103819         1.0         NaN  Roger Federer          R     185.0   \n",
       "1    106233         8.0         NaN  Dominic Thiem          R       NaN   \n",
       "\n",
       "  loser_ioc  loser_age  loser_rank  loser_rank_points    score  best_of round  \\\n",
       "0       SUI  34.406571         3.0             8265.0  6-4 6-4        3     F   \n",
       "1       AUT  22.335387        20.0             1600.0  6-1 6-4        3    SF   \n",
       "\n",
       "   minutes  w_ace  w_df  w_svpt  w_1stIn  w_1stWon  w_2ndWon  w_SvGms  \\\n",
       "0     87.0    6.0   6.0    60.0     34.0      28.0      14.0     10.0   \n",
       "1     60.0    6.0   0.0    49.0     27.0      23.0      12.0      9.0   \n",
       "\n",
       "   w_bpSaved  w_bpFaced  l_ace  l_df  l_svpt  l_1stIn  l_1stWon  l_2ndWon  \\\n",
       "0        1.0        1.0    7.0   3.0    61.0     34.0      25.0      14.0   \n",
       "1        0.0        1.0    2.0   4.0    55.0     31.0      18.0       9.0   \n",
       "\n",
       "   l_SvGms  l_bpSaved  l_bpFaced  \n",
       "0     10.0        3.0        5.0  \n",
       "1      8.0        2.0        6.0  "
      ]
     },
     "execution_count": 6,
     "metadata": {},
     "output_type": "execute_result"
    }
   ],
   "source": [
    "data.head(2)"
   ]
  },
  {
   "cell_type": "markdown",
   "metadata": {
    "heading_collapsed": true
   },
   "source": [
    "## What the column names mean:"
   ]
  },
  {
   "cell_type": "markdown",
   "metadata": {
    "hidden": true
   },
   "source": [
    "- tourney_id: tournament id number<br><br>\n",
    "- tourney_name: tournament name<br><br>\n",
    "- surface: type of surface of the playing field<br><br>\n",
    "- draw_size: the number of players in the tournament<br><br>\n",
    "- tourney_level: tournament skill level<br><br>\n",
    "- tourney_date: date the tournament took place<br><br>\n",
    "- match_num: number of the match that season<br><br>\n",
    "- winner_id: the ID of the match winner<br><br>\n",
    "- winner_seed: the seed of the winner. A seed is assigned to high ranking and thus popular players, to make sure they do not play against each other in the first rounds of the tournament. Keeping the highly popular players untill the end of the tournament.\n",
    "\n",
    "     For more information about seeds in tennis, look at: https://www.quora.com/Why-is-the-term-seed-used-instead-of-rank-in-tennis <br><br>\n",
    "- winner_entry: The way the winner entered the tournament. If this is empty, this means that the player entered the tournament in the main draw. If this value is WC, this means the player entered with a wildcard. Finally if the value is Q, the player entered the tournament by qualifying.\n",
    "\n",
    "     For more information on entry's, look at: https://sports.stackexchange.com/questions/540/how-do-tennis-players-get-into-tournaments<br><br>\n",
    "- name = the name of the winning player<br><br>\n",
    "- hand = R or L, representing left-handed or right-handed playing<br><br>\n",
    "- ht = height of the player in cm<br><br>\n",
    "- ioc = Code of the country of origin of the player<br><br>\n",
    "- age = age of the player<br><br>\n",
    "- rank = rank of the player<br><br>\n",
    "- rank_points = ranking points the player has collected (not sure if total or this season)<br><br>\n",
    "- score = final score of the match<br><br>\n",
    "- best_of = the format of game (best of 3 or best of 5)<br><br>\n",
    "- round = the round of the tournament<br><br>\n",
    "- minutes = the duration of the match in minutes<br><br>\n",
    "- ace = number of aces\n",
    "    For more information on aces in tennis, look at: https://en.wikipedia.org/wiki/Ace_(tennis) <br><br>\n",
    "- df = number of double faults\n",
    "    For more information on double faults in tennis, look at: https://en.wikipedia.org/wiki/Serve_(tennis)#double_fault <br><br>\n",
    "- svpt = number of service points<br><br>\n",
    "- 1stln = number of first serves<br><br>\n",
    "- 1stWon = number of first serves won <br><br>\n",
    "- 2ndWon = number of second serves won <br><br>\n",
    "- SvGms = number of service games<br><br>\n",
    "- bpSaved = number of break points saved<br><br>\n",
    "- bpfaced = number of break points faced<br><br>"
   ]
  },
  {
   "cell_type": "markdown",
   "metadata": {},
   "source": [
    "## Define the data features we will use and or create\n",
    "\n",
    "To determine the data we input into the model, we need to think about data that we know before the match. Bellow is a list of data points I'm going to use / create."
   ]
  },
  {
   "cell_type": "markdown",
   "metadata": {
    "heading_collapsed": true
   },
   "source": [
    "### Match / tournament specific:"
   ]
  },
  {
   "cell_type": "markdown",
   "metadata": {
    "hidden": true
   },
   "source": [
    "- venue\n",
    "- weather\n",
    "- temperature\n",
    "- best of type\n",
    "- tournament name\n",
    "- tournament round\n",
    "- tournament level\n",
    "- play surface\n",
    "- draw size"
   ]
  },
  {
   "cell_type": "markdown",
   "metadata": {},
   "source": [
    "### Player specific:"
   ]
  },
  {
   "cell_type": "markdown",
   "metadata": {},
   "source": [
    "- player age\n",
    "- player height\n",
    "- Total matches in career\n",
    "- Total days in career\n",
    "- player rank\n",
    "- player rank-points\n",
    "- player hand\n",
    "- avg5 double faults\n",
    "- avg5 first serves\n",
    "- avg5 first serves won\n",
    "- avg5 second serves won\n",
    "- avg5 aces\n",
    "- avg5 service games\n",
    "- avg5 break points saved\n",
    "- avg5 break points faced\n",
    "- total double faults\n",
    "- total first serves\n",
    "- total first serves won\n",
    "- total second serves won\n",
    "- total aces\n",
    "- total service games\n",
    "- total break points saved\n",
    "- total break points faced"
   ]
  },
  {
   "cell_type": "markdown",
   "metadata": {},
   "source": [
    "# Database creation"
   ]
  },
  {
   "cell_type": "markdown",
   "metadata": {},
   "source": [
    "## Players:"
   ]
  },
  {
   "cell_type": "markdown",
   "metadata": {},
   "source": [
    "We'll be creating a csv file that will act as a sort of database for each player. Giving each player a unique id that we will use when training the model."
   ]
  },
  {
   "cell_type": "code",
   "execution_count": 39,
   "metadata": {},
   "outputs": [],
   "source": [
    "def get_player_id(player_name):\n",
    "    \n",
    "    filepath = database_dir + \"players_db.csv\"  # The database file\n",
    "    \n",
    "    if not os.path.exists(filepath):  # Create the file if it does not exist yet\n",
    "        print(\"File does not exist yet, creating file..\")\n",
    "        \n",
    "        with open(filepath, \"w\") as file:\n",
    "            field_names = [\"id\", \"name\", \"birth_date\", \"went_pro_date\", \"height\"]\n",
    "            writer = csv.DictWriter(file, fieldnames=field_names)\n",
    "            writer.writeheader()\n",
    "            \n",
    "        print(\"File created!\")\n",
    "        \n",
    "    try:\n",
    "        df = pd.read_csv(filepath)\n",
    "        index = df.index[df[\"name\"] == player_name]\n",
    "        \n",
    "        if(len(index > 0)):\n",
    "            return index[0]\n",
    "        else:\n",
    "            return None\n",
    "                \n",
    "    except pd.io.common.EmptyDataError:\n",
    "        print(\"File is empty!\")\n",
    "        return None\n",
    "        \n",
    "    print(dataframe)"
   ]
  },
  {
   "cell_type": "code",
   "execution_count": 41,
   "metadata": {},
   "outputs": [
    {
     "name": "stdout",
     "output_type": "stream",
     "text": [
      "0\n"
     ]
    }
   ],
   "source": [
    "print(get_player_id(\"kenneth\"))"
   ]
  },
  {
   "cell_type": "code",
   "execution_count": null,
   "metadata": {},
   "outputs": [],
   "source": []
  }
 ],
 "metadata": {
  "kernelspec": {
   "display_name": "Python 3",
   "language": "python",
   "name": "python3"
  },
  "language_info": {
   "codemirror_mode": {
    "name": "ipython",
    "version": 3
   },
   "file_extension": ".py",
   "mimetype": "text/x-python",
   "name": "python",
   "nbconvert_exporter": "python",
   "pygments_lexer": "ipython3",
   "version": "3.5.4"
  }
 },
 "nbformat": 4,
 "nbformat_minor": 2
}
